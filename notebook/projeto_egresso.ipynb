{
 "cells": [
  {
   "cell_type": "markdown",
   "metadata": {},
   "source": [
    "# Projeto professora Daniele Uziel\n"
   ]
  },
  {
   "cell_type": "code",
   "execution_count": 1,
   "metadata": {},
   "outputs": [],
   "source": [
    "import pandas as pd \n",
    "import numpy as np"
   ]
  },
  {
   "cell_type": "code",
   "execution_count": 2,
   "metadata": {
    "scrolled": true
   },
   "outputs": [],
   "source": [
    "dados = pd.read_excel('C:\\\\Users\\\\wesle\\\\Documents\\\\dados\\\\Socios_excel.xlsx')"
   ]
  },
  {
   "cell_type": "code",
   "execution_count": 3,
   "metadata": {},
   "outputs": [
    {
     "data": {
      "text/html": [
       "<div>\n",
       "<style scoped>\n",
       "    .dataframe tbody tr th:only-of-type {\n",
       "        vertical-align: middle;\n",
       "    }\n",
       "\n",
       "    .dataframe tbody tr th {\n",
       "        vertical-align: top;\n",
       "    }\n",
       "\n",
       "    .dataframe thead th {\n",
       "        text-align: right;\n",
       "    }\n",
       "</style>\n",
       "<table border=\"1\" class=\"dataframe\">\n",
       "  <thead>\n",
       "    <tr style=\"text-align: right;\">\n",
       "      <th></th>\n",
       "      <th>cnpj</th>\n",
       "      <th>razao_social</th>\n",
       "      <th>cpf_cnpj_socio</th>\n",
       "      <th>nome_socio</th>\n",
       "      <th>codigo_qualificacao_socio</th>\n",
       "      <th>codigo_tipo_socio</th>\n",
       "      <th>tipo_socio</th>\n",
       "      <th>qualificacao_socio</th>\n",
       "      <th>Índice</th>\n",
       "    </tr>\n",
       "  </thead>\n",
       "  <tbody>\n",
       "    <tr>\n",
       "      <th>0</th>\n",
       "      <td>296376</td>\n",
       "      <td>BANCO DO BRASIL SA</td>\n",
       "      <td>***760516**</td>\n",
       "      <td>DELANO VALENTIM DE ANDRADE</td>\n",
       "      <td>10</td>\n",
       "      <td>2</td>\n",
       "      <td>Pessoa Física</td>\n",
       "      <td>Diretor</td>\n",
       "      <td>1</td>\n",
       "    </tr>\n",
       "    <tr>\n",
       "      <th>1</th>\n",
       "      <td>353</td>\n",
       "      <td>BANCO DO BRASIL SA</td>\n",
       "      <td>***470447**</td>\n",
       "      <td>RUBEM DE FREITAS NOVAES</td>\n",
       "      <td>16</td>\n",
       "      <td>2</td>\n",
       "      <td>Pessoa Física</td>\n",
       "      <td>Presidente</td>\n",
       "      <td>2</td>\n",
       "    </tr>\n",
       "    <tr>\n",
       "      <th>2</th>\n",
       "      <td>353</td>\n",
       "      <td>BANCO DO BRASIL SA</td>\n",
       "      <td>***431620**</td>\n",
       "      <td>GERSON EDUARDO DE OLIVEIRA</td>\n",
       "      <td>10</td>\n",
       "      <td>2</td>\n",
       "      <td>Pessoa Física</td>\n",
       "      <td>Diretor</td>\n",
       "      <td>3</td>\n",
       "    </tr>\n",
       "    <tr>\n",
       "      <th>3</th>\n",
       "      <td>353</td>\n",
       "      <td>BANCO DO BRASIL SA</td>\n",
       "      <td>***760516**</td>\n",
       "      <td>DELANO VALENTIM DE ANDRADE</td>\n",
       "      <td>10</td>\n",
       "      <td>2</td>\n",
       "      <td>Pessoa Física</td>\n",
       "      <td>Diretor</td>\n",
       "      <td>4</td>\n",
       "    </tr>\n",
       "    <tr>\n",
       "      <th>4</th>\n",
       "      <td>353</td>\n",
       "      <td>BANCO DO BRASIL SA</td>\n",
       "      <td>***875581**</td>\n",
       "      <td>ANA PAULA TEIXEIRA DE SOUSA</td>\n",
       "      <td>10</td>\n",
       "      <td>2</td>\n",
       "      <td>Pessoa Física</td>\n",
       "      <td>Diretor</td>\n",
       "      <td>5</td>\n",
       "    </tr>\n",
       "  </tbody>\n",
       "</table>\n",
       "</div>"
      ],
      "text/plain": [
       "     cnpj        razao_social cpf_cnpj_socio                   nome_socio  \\\n",
       "0  296376  BANCO DO BRASIL SA    ***760516**   DELANO VALENTIM DE ANDRADE   \n",
       "1     353  BANCO DO BRASIL SA    ***470447**      RUBEM DE FREITAS NOVAES   \n",
       "2     353  BANCO DO BRASIL SA    ***431620**   GERSON EDUARDO DE OLIVEIRA   \n",
       "3     353  BANCO DO BRASIL SA    ***760516**   DELANO VALENTIM DE ANDRADE   \n",
       "4     353  BANCO DO BRASIL SA    ***875581**  ANA PAULA TEIXEIRA DE SOUSA   \n",
       "\n",
       "   codigo_qualificacao_socio  codigo_tipo_socio     tipo_socio  \\\n",
       "0                         10                  2  Pessoa Física   \n",
       "1                         16                  2  Pessoa Física   \n",
       "2                         10                  2  Pessoa Física   \n",
       "3                         10                  2  Pessoa Física   \n",
       "4                         10                  2  Pessoa Física   \n",
       "\n",
       "  qualificacao_socio  Índice  \n",
       "0            Diretor       1  \n",
       "1         Presidente       2  \n",
       "2            Diretor       3  \n",
       "3            Diretor       4  \n",
       "4            Diretor       5  "
      ]
     },
     "execution_count": 3,
     "metadata": {},
     "output_type": "execute_result"
    }
   ],
   "source": [
    "dados.head()"
   ]
  },
  {
   "cell_type": "code",
   "execution_count": 4,
   "metadata": {},
   "outputs": [
    {
     "name": "stdout",
     "output_type": "stream",
     "text": [
      "Entre com CPF ou CNPJ do cliente: ***875581**\n"
     ]
    }
   ],
   "source": [
    "cpf = input(\"Entre com CPF ou CNPJ do cliente: \")\n",
    "\n",
    "cpf_filtrado = dados['cpf_cnpj_socio'] == cpf "
   ]
  },
  {
   "cell_type": "code",
   "execution_count": 5,
   "metadata": {},
   "outputs": [
    {
     "name": "stdout",
     "output_type": "stream",
     "text": [
      "          cnpj        razao_social cpf_cnpj_socio  \\\n",
      "4          353  BANCO DO BRASIL SA    ***875581**   \n",
      "78      259764  BANCO DO BRASIL SA    ***875581**   \n",
      "147     363316  BANCO DO BRASIL SA    ***875581**   \n",
      "3610    296376  BANCO DO BRASIL SA    ***875581**   \n",
      "14436   275107  BANCO DO BRASIL SA    ***875581**   \n",
      "...        ...                 ...            ...   \n",
      "457150  369438  BANCO DO BRASIL SA    ***875581**   \n",
      "458792  173371  BANCO DO BRASIL SA    ***875581**   \n",
      "468419  264504  BANCO DO BRASIL SA    ***875581**   \n",
      "468491  487805  BANCO DO BRASIL SA    ***875581**   \n",
      "483828  397806  BANCO DO BRASIL SA    ***875581**   \n",
      "\n",
      "                         nome_socio  codigo_qualificacao_socio  \\\n",
      "4       ANA PAULA TEIXEIRA DE SOUSA                         10   \n",
      "78      ANA PAULA TEIXEIRA DE SOUSA                         10   \n",
      "147     ANA PAULA TEIXEIRA DE SOUSA                         10   \n",
      "3610    ANA PAULA TEIXEIRA DE SOUSA                         10   \n",
      "14436   ANA PAULA TEIXEIRA DE SOUSA                         10   \n",
      "...                             ...                        ...   \n",
      "457150  ANA PAULA TEIXEIRA DE SOUSA                         10   \n",
      "458792  ANA PAULA TEIXEIRA DE SOUSA                         10   \n",
      "468419  ANA PAULA TEIXEIRA DE SOUSA                         10   \n",
      "468491  ANA PAULA TEIXEIRA DE SOUSA                         10   \n",
      "483828  ANA PAULA TEIXEIRA DE SOUSA                         10   \n",
      "\n",
      "        codigo_tipo_socio     tipo_socio qualificacao_socio  Índice  \n",
      "4                       2  Pessoa Física            Diretor       5  \n",
      "78                      2  Pessoa Física            Diretor      79  \n",
      "147                     2  Pessoa Física            Diretor     148  \n",
      "3610                    2  Pessoa Física            Diretor    3611  \n",
      "14436                   2  Pessoa Física            Diretor   14437  \n",
      "...                   ...            ...                ...     ...  \n",
      "457150                  2  Pessoa Física            Diretor  457151  \n",
      "458792                  2  Pessoa Física            Diretor  458793  \n",
      "468419                  2  Pessoa Física            Diretor  468420  \n",
      "468491                  2  Pessoa Física            Diretor  468492  \n",
      "483828                  2  Pessoa Física            Diretor  483829  \n",
      "\n",
      "[131 rows x 9 columns]\n"
     ]
    }
   ],
   "source": [
    "print(dados[cpf_filtrado])"
   ]
  },
  {
   "cell_type": "code",
   "execution_count": null,
   "metadata": {},
   "outputs": [],
   "source": []
  }
 ],
 "metadata": {
  "kernelspec": {
   "display_name": "Python 3",
   "language": "python",
   "name": "python3"
  },
  "language_info": {
   "codemirror_mode": {
    "name": "ipython",
    "version": 3
   },
   "file_extension": ".py",
   "mimetype": "text/x-python",
   "name": "python",
   "nbconvert_exporter": "python",
   "pygments_lexer": "ipython3",
   "version": "3.8.5"
  }
 },
 "nbformat": 4,
 "nbformat_minor": 4
}
