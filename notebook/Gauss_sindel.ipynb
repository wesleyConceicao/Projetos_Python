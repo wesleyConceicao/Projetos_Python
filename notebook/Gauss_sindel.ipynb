{
  "nbformat": 4,
  "nbformat_minor": 0,
  "metadata": {
    "colab": {
      "name": "Untitled1.ipynb",
      "provenance": [],
      "collapsed_sections": []
    },
    "kernelspec": {
      "name": "python3",
      "display_name": "Python 3"
    },
    "language_info": {
      "name": "python"
    }
  },
  "cells": [
    {
      "cell_type": "code",
      "metadata": {
        "colab": {
          "base_uri": "https://localhost:8080/"
        },
        "id": "2VarlLOyDVKj",
        "outputId": "93fe6c96-fc89-45af-d512-53a6f4dd97b7"
      },
      "source": [
        "import numpy as np\n",
        "x1 = 0\n",
        "x2 = 0\n",
        "x3 = 0\n",
        "epsilon = 0.000001\n",
        "convergiu = False\n",
        "\n",
        "x_old = np.array([x1, x2, x3])\n",
        "\n",
        "print('Resultados da Iteraçoes')\n",
        "print(' k,    x1,    x2,    x3 ')\n",
        "for k in range(1, 50):\n",
        "    x1 = (500 + 2 * x2 + 3 * x3) / 17\n",
        "    x2 = (200 + 5 * x1 + 2 * x3) / 21\n",
        "    x3 = (30 + 5 * x1 + 5 * x2) / 22\n",
        "    x = np.array([x1, x2, x3])\n",
        "\n",
        "    dx = np.sqrt(np.dot(x - x_old, x - x_old))\n",
        "\n",
        "    print(\"%d, %.4f, %.4f, %.4f\" % (k, x1, x2, x3))\n",
        "    if dx < epsilon:\n",
        "        convergiu = True\n",
        "        print('Convergiu!')\n",
        "        break\n",
        "\n",
        "    # assign the latest x value to the old value\n",
        "    x_old = x\n",
        "\n",
        "if not convergiu:\n",
        "    print('Nao converge, increase the # of iterations')\n"
      ],
      "execution_count": 1,
      "outputs": [
        {
          "output_type": "stream",
          "text": [
            "Resultados da Iteraçoes\n",
            " k,    x1,    x2,    x3 \n",
            "1, 29.4118, 16.5266, 11.8042\n",
            "2, 33.4392, 18.6097, 13.1929\n",
            "3, 33.9293, 18.8587, 13.3609\n",
            "4, 33.9882, 18.8887, 13.3811\n",
            "5, 33.9953, 18.8923, 13.3836\n",
            "6, 33.9962, 18.8928, 13.3839\n",
            "7, 33.9963, 18.8928, 13.3839\n",
            "8, 33.9963, 18.8928, 13.3839\n",
            "9, 33.9963, 18.8928, 13.3839\n",
            "10, 33.9963, 18.8928, 13.3839\n",
            "Convergiu!\n"
          ],
          "name": "stdout"
        }
      ]
    }
  ]
}